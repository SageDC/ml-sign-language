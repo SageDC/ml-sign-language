{
 "cells": [
  {
   "cell_type": "code",
   "execution_count": null,
   "metadata": {},
   "outputs": [],
   "source": [
    "# author: Darren Cobian\n",
    "# lecture: CECS 456 - Machine Learning\n",
    "# instructor: Wenlu Zhang"
   ]
  },
  {
   "cell_type": "code",
   "execution_count": 1,
   "metadata": {},
   "outputs": [],
   "source": [
    "import numpy as np\n",
    "import pandas as pd\n",
    "import os\n",
    "import cv2\n",
    "from PIL import Image\n",
    "from tensorflow import keras\n",
    "from tensorflow.keras import layers\n"
   ]
  },
  {
   "cell_type": "code",
   "execution_count": 2,
   "metadata": {},
   "outputs": [],
   "source": [
    "dict = {\n",
    "    '_':1,\n",
    "    '0':2,\n",
    "    '1':3,\n",
    "    '2':4,\n",
    "    '3':5,\n",
    "    '4':6,\n",
    "    '5':7,\n",
    "    '6':8,\n",
    "    '7':9,\n",
    "    '8':10,\n",
    "    '9':11,\n",
    "    'A':12,\n",
    "    'B':13,\n",
    "    'C':14,\n",
    "    'D':15,\n",
    "    'E':16,\n",
    "    'F':17,\n",
    "    'G':18,\n",
    "    'H':19,\n",
    "    'I':20,\n",
    "    'J':21,\n",
    "    'K':22,\n",
    "    'L':23,\n",
    "    'M':24,\n",
    "    'N':25,\n",
    "    'O':26,\n",
    "    'P':27,\n",
    "    'Q':28,\n",
    "    'R':29,\n",
    "    'S':30,\n",
    "    'T':31,\n",
    "    'U':32,\n",
    "    'V':33,\n",
    "    'W':34,\n",
    "    'X':35,\n",
    "    'Y':36,\n",
    "    'Z':37,\n",
    "}"
   ]
  },
  {
   "cell_type": "code",
   "execution_count": 3,
   "metadata": {},
   "outputs": [],
   "source": [
    "# directory\n",
    "gesture_path = r\"Gesture Image Data/\"\n",
    "gesture_folders = os.listdir(gesture_path)"
   ]
  },
  {
   "cell_type": "code",
   "execution_count": 4,
   "metadata": {},
   "outputs": [
    {
     "name": "stdout",
     "output_type": "stream",
     "text": [
      "Reading images from Gesture Image Data/0/ ...\n",
      "Reading images from Gesture Image Data/1/ ...\n",
      "Reading images from Gesture Image Data/2/ ...\n",
      "Reading images from Gesture Image Data/3/ ...\n",
      "Reading images from Gesture Image Data/4/ ...\n",
      "Reading images from Gesture Image Data/5/ ...\n",
      "Reading images from Gesture Image Data/6/ ...\n",
      "Reading images from Gesture Image Data/7/ ...\n",
      "Reading images from Gesture Image Data/8/ ...\n",
      "Reading images from Gesture Image Data/9/ ...\n",
      "Reading images from Gesture Image Data/A/ ...\n",
      "Reading images from Gesture Image Data/B/ ...\n",
      "Reading images from Gesture Image Data/C/ ...\n",
      "Reading images from Gesture Image Data/D/ ...\n",
      "Reading images from Gesture Image Data/E/ ...\n",
      "Reading images from Gesture Image Data/F/ ...\n",
      "Reading images from Gesture Image Data/G/ ...\n",
      "Reading images from Gesture Image Data/H/ ...\n",
      "Reading images from Gesture Image Data/I/ ...\n",
      "Reading images from Gesture Image Data/J/ ...\n",
      "Reading images from Gesture Image Data/K/ ...\n",
      "Reading images from Gesture Image Data/L/ ...\n",
      "Reading images from Gesture Image Data/M/ ...\n",
      "Reading images from Gesture Image Data/N/ ...\n",
      "Reading images from Gesture Image Data/O/ ...\n",
      "Reading images from Gesture Image Data/P/ ...\n",
      "Reading images from Gesture Image Data/Q/ ...\n",
      "Reading images from Gesture Image Data/R/ ...\n",
      "Reading images from Gesture Image Data/S/ ...\n",
      "Reading images from Gesture Image Data/T/ ...\n",
      "Reading images from Gesture Image Data/U/ ...\n",
      "Reading images from Gesture Image Data/V/ ...\n",
      "Reading images from Gesture Image Data/W/ ...\n",
      "Reading images from Gesture Image Data/X/ ...\n",
      "Reading images from Gesture Image Data/Y/ ...\n",
      "Reading images from Gesture Image Data/Z/ ...\n",
      "Reading images from Gesture Image Data/_/ ...\n"
     ]
    }
   ],
   "source": [
    "\n",
    "X, y = [], []\n",
    "for folder in gesture_folders:\n",
    "    files = os.listdir(gesture_path + folder)\n",
    "    print('Reading images from ' + gesture_path + folder + '/ ...')\n",
    "    for file in files:\n",
    "        img = cv2.imread(gesture_path + folder + '/' + file)\n",
    "        img = cv2.resize(img, (227, 227))\n",
    "        img = img.reshape(227, 227, 3)\n",
    "        X.append(img)\n",
    "        y.append(dict[folder])"
   ]
  },
  {
   "cell_type": "code",
   "execution_count": 5,
   "metadata": {},
   "outputs": [],
   "source": [
    "from sklearn.model_selection import train_test_split\n",
    "X_train, X_test, y_train, y_test = train_test_split(X, y, test_size = 0.25, random_state = 0)"
   ]
  },
  {
   "cell_type": "code",
   "execution_count": 6,
   "metadata": {},
   "outputs": [],
   "source": [
    "model = keras.models.Sequential()"
   ]
  },
  {
   "cell_type": "code",
   "execution_count": 7,
   "metadata": {},
   "outputs": [],
   "source": [
    "model.add(layers.Conv2D(filters=96, input_shape=(227,227,3), kernel_size=(11,11), strides=(4,4), padding='valid', activation='relu'))"
   ]
  },
  {
   "cell_type": "code",
   "execution_count": 8,
   "metadata": {},
   "outputs": [],
   "source": [
    "model.add(layers.MaxPooling2D(pool_size=(3,3), strides=(2,2), padding='valid'))"
   ]
  },
  {
   "cell_type": "code",
   "execution_count": 9,
   "metadata": {},
   "outputs": [],
   "source": [
    "model.add(layers.BatchNormalization())"
   ]
  },
  {
   "cell_type": "code",
   "execution_count": 10,
   "metadata": {},
   "outputs": [],
   "source": [
    "model.add(layers.Conv2D(filters=256, input_shape=(27,27,96), kernel_size=(5,5), strides=(1,1), padding='same', activation='relu'))"
   ]
  },
  {
   "cell_type": "code",
   "execution_count": 11,
   "metadata": {},
   "outputs": [],
   "source": [
    "model.add(layers.MaxPooling2D(pool_size=(3,3), strides=(2,2), padding='valid'))"
   ]
  },
  {
   "cell_type": "code",
   "execution_count": 12,
   "metadata": {},
   "outputs": [],
   "source": [
    "model.add(layers.BatchNormalization())"
   ]
  },
  {
   "cell_type": "code",
   "execution_count": 13,
   "metadata": {},
   "outputs": [],
   "source": [
    "model.add(layers.Conv2D(filters=384, input_shape=(13,13,256), kernel_size=(3,3), strides=(1,1), padding='same', activation='relu'))"
   ]
  },
  {
   "cell_type": "code",
   "execution_count": 14,
   "metadata": {},
   "outputs": [],
   "source": [
    "model.add(layers.Conv2D(filters=384, input_shape=(13,13,384), kernel_size=(3,3), strides=(1,1), padding='same', activation='relu'))"
   ]
  },
  {
   "cell_type": "code",
   "execution_count": 15,
   "metadata": {},
   "outputs": [],
   "source": [
    "model.add(layers.Conv2D(filters=256, input_shape=(13,13,384), kernel_size=(3,3), strides=(1,1), padding='same', activation='relu'))"
   ]
  },
  {
   "cell_type": "code",
   "execution_count": 16,
   "metadata": {},
   "outputs": [],
   "source": [
    "model.add(layers.MaxPooling2D(pool_size=(3,3), strides=(2,2), padding='valid'))"
   ]
  },
  {
   "cell_type": "code",
   "execution_count": 17,
   "metadata": {},
   "outputs": [],
   "source": [
    "model.add(layers.Flatten())"
   ]
  },
  {
   "cell_type": "code",
   "execution_count": 18,
   "metadata": {},
   "outputs": [],
   "source": [
    "model.add(layers.Dense(units=4096, activation='relu'))\n",
    "model.add(layers.Dropout(0.5))"
   ]
  },
  {
   "cell_type": "code",
   "execution_count": 19,
   "metadata": {},
   "outputs": [],
   "source": [
    "model.add(layers.Dense(units=4096, activation='relu'))\n",
    "model.add(layers.Dropout(0.5))"
   ]
  },
  {
   "cell_type": "code",
   "execution_count": 20,
   "metadata": {},
   "outputs": [],
   "source": [
    "model.add(layers.Dense(units=1000, activation='softmax'))"
   ]
  },
  {
   "cell_type": "code",
   "execution_count": 21,
   "metadata": {},
   "outputs": [],
   "source": [
    "model.compile(loss='sparse_categorical_crossentropy', optimizer='adam', metrics=['accuracy'])"
   ]
  },
  {
   "cell_type": "code",
   "execution_count": 22,
   "metadata": {},
   "outputs": [],
   "source": [
    "X_train = np.array(X_train)\n",
    "y_train = np.array(y_train)\n",
    "X_test = np.array(X_test)\n",
    "y_test = np.array(y_test)"
   ]
  },
  {
   "cell_type": "code",
   "execution_count": 23,
   "metadata": {},
   "outputs": [
    {
     "name": "stdout",
     "output_type": "stream",
     "text": [
      "Model: \"sequential\"\n",
      "_________________________________________________________________\n",
      " Layer (type)                Output Shape              Param #   \n",
      "=================================================================\n",
      " conv2d (Conv2D)             (None, 55, 55, 96)        34944     \n",
      "                                                                 \n",
      " max_pooling2d (MaxPooling2D  (None, 27, 27, 96)       0         \n",
      " )                                                               \n",
      "                                                                 \n",
      " batch_normalization (BatchN  (None, 27, 27, 96)       384       \n",
      " ormalization)                                                   \n",
      "                                                                 \n",
      " conv2d_1 (Conv2D)           (None, 27, 27, 256)       614656    \n",
      "                                                                 \n",
      " max_pooling2d_1 (MaxPooling  (None, 13, 13, 256)      0         \n",
      " 2D)                                                             \n",
      "                                                                 \n",
      " batch_normalization_1 (Batc  (None, 13, 13, 256)      1024      \n",
      " hNormalization)                                                 \n",
      "                                                                 \n",
      " conv2d_2 (Conv2D)           (None, 13, 13, 384)       885120    \n",
      "                                                                 \n",
      " conv2d_3 (Conv2D)           (None, 13, 13, 384)       1327488   \n",
      "                                                                 \n",
      " conv2d_4 (Conv2D)           (None, 13, 13, 256)       884992    \n",
      "                                                                 \n",
      " max_pooling2d_2 (MaxPooling  (None, 6, 6, 256)        0         \n",
      " 2D)                                                             \n",
      "                                                                 \n",
      " flatten (Flatten)           (None, 9216)              0         \n",
      "                                                                 \n",
      " dense (Dense)               (None, 4096)              37752832  \n",
      "                                                                 \n",
      " dropout (Dropout)           (None, 4096)              0         \n",
      "                                                                 \n",
      " dense_1 (Dense)             (None, 4096)              16781312  \n",
      "                                                                 \n",
      " dropout_1 (Dropout)         (None, 4096)              0         \n",
      "                                                                 \n",
      " dense_2 (Dense)             (None, 1000)              4097000   \n",
      "                                                                 \n",
      "=================================================================\n",
      "Total params: 62,379,752\n",
      "Trainable params: 62,379,048\n",
      "Non-trainable params: 704\n",
      "_________________________________________________________________\n"
     ]
    }
   ],
   "source": [
    "model.summary()"
   ]
  },
  {
   "cell_type": "code",
   "execution_count": 24,
   "metadata": {},
   "outputs": [
    {
     "name": "stdout",
     "output_type": "stream",
     "text": [
      "Epoch 1/10\n",
      "417/417 [==============================] - 767s 2s/step - loss: 0.5166 - accuracy: 0.8645\n",
      "Epoch 2/10\n",
      "417/417 [==============================] - 762s 2s/step - loss: 0.1611 - accuracy: 0.9680\n",
      "Epoch 3/10\n",
      "417/417 [==============================] - 753s 2s/step - loss: 0.2112 - accuracy: 0.9745\n",
      "Epoch 4/10\n",
      "417/417 [==============================] - 757s 2s/step - loss: 0.1008 - accuracy: 0.9888\n",
      "Epoch 5/10\n",
      "417/417 [==============================] - 761s 2s/step - loss: 0.0337 - accuracy: 0.9961\n",
      "Epoch 6/10\n",
      "417/417 [==============================] - 762s 2s/step - loss: 0.3027 - accuracy: 0.9816\n",
      "Epoch 7/10\n",
      "417/417 [==============================] - 752s 2s/step - loss: 0.1593 - accuracy: 0.9929\n",
      "Epoch 8/10\n",
      "417/417 [==============================] - 756s 2s/step - loss: 0.1079 - accuracy: 0.9944\n",
      "Epoch 9/10\n",
      "417/417 [==============================] - 759s 2s/step - loss: 0.1072 - accuracy: 0.9957\n",
      "Epoch 10/10\n",
      "417/417 [==============================] - 756s 2s/step - loss: 0.1593 - accuracy: 0.9943\n"
     ]
    },
    {
     "data": {
      "text/plain": [
       "<keras.callbacks.History at 0x1bfb32d7eb0>"
      ]
     },
     "execution_count": 24,
     "metadata": {},
     "output_type": "execute_result"
    }
   ],
   "source": [
    "model.fit(X_train, y_train, batch_size=100, epochs=10)"
   ]
  },
  {
   "cell_type": "code",
   "execution_count": 25,
   "metadata": {},
   "outputs": [
    {
     "name": "stdout",
     "output_type": "stream",
     "text": [
      "434/434 [==============================] - 58s 134ms/step - loss: 0.3015 - accuracy: 0.9883\n",
      "Total loss on Testing Set: 0.3015002906322479\n",
      "Acuracy of Testing Set: 0.9882522225379944\n"
     ]
    }
   ],
   "source": [
    "score = model.evaluate(X_test, y_test)\n",
    "print('Total loss on Testing Set:', score[0])\n",
    "print('Acuracy of Testing Set:', score[1])"
   ]
  },
  {
   "cell_type": "code",
   "execution_count": null,
   "metadata": {},
   "outputs": [],
   "source": []
  }
 ],
 "metadata": {
  "interpreter": {
   "hash": "5c013de2a3802216f80e1f00af7265ac34d62c73493cea0d6f4dacbc67de9fb6"
  },
  "kernelspec": {
   "display_name": "Python 3.9.4 64-bit",
   "language": "python",
   "name": "python3"
  },
  "language_info": {
   "codemirror_mode": {
    "name": "ipython",
    "version": 3
   },
   "file_extension": ".py",
   "mimetype": "text/x-python",
   "name": "python",
   "nbconvert_exporter": "python",
   "pygments_lexer": "ipython3",
   "version": "3.9.4"
  },
  "orig_nbformat": 4
 },
 "nbformat": 4,
 "nbformat_minor": 2
}
