{
 "cells": [
  {
   "cell_type": "code",
   "execution_count": 1,
   "metadata": {},
   "outputs": [],
   "source": [
    "# author: Frank Kim\n",
    "# lecture: CECS 456 - Machine Learning\n",
    "# instructor: Wenlu Zhang"
   ]
  },
  {
   "cell_type": "code",
   "execution_count": 2,
   "metadata": {},
   "outputs": [],
   "source": [
    "import numpy as np\n",
    "import pandas as pd\n",
    "import os\n",
    "import cv2\n",
    "from PIL import Image\n",
    "from tensorflow import keras\n",
    "from tensorflow.keras import layers"
   ]
  },
  {
   "cell_type": "code",
   "execution_count": 3,
   "metadata": {},
   "outputs": [],
   "source": [
    "dict = {\n",
    "    '_':1,\n",
    "    '0':2,\n",
    "    '1':3,\n",
    "    '2':4,\n",
    "    '3':5,\n",
    "    '4':6,\n",
    "    '5':7,\n",
    "    '6':8,\n",
    "    '7':9,\n",
    "    '8':10,\n",
    "    '9':11,\n",
    "    'A':12,\n",
    "    'B':13,\n",
    "    'C':14,\n",
    "    'D':15,\n",
    "    'E':16,\n",
    "    'F':17,\n",
    "    'G':18,\n",
    "    'H':19,\n",
    "    'I':20,\n",
    "    'J':21,\n",
    "    'K':22,\n",
    "    'L':23,\n",
    "    'M':24,\n",
    "    'N':25,\n",
    "    'O':26,\n",
    "    'P':27,\n",
    "    'Q':28,\n",
    "    'R':29,\n",
    "    'S':30,\n",
    "    'T':31,\n",
    "    'U':32,\n",
    "    'V':33,\n",
    "    'W':34,\n",
    "    'X':35,\n",
    "    'Y':36,\n",
    "    'Z':37,\n",
    "}"
   ]
  },
  {
   "cell_type": "code",
   "execution_count": 4,
   "metadata": {},
   "outputs": [],
   "source": [
    "# directory\n",
    "gesture_path = r\"Gesture Image Data/\"\n",
    "gesture_folders = os.listdir(gesture_path)"
   ]
  },
  {
   "cell_type": "code",
   "execution_count": 5,
   "metadata": {},
   "outputs": [
    {
     "name": "stdout",
     "output_type": "stream",
     "text": [
      "Reading images from Gesture Image Data/0/ ...\n",
      "Reading images from Gesture Image Data/1/ ...\n",
      "Reading images from Gesture Image Data/2/ ...\n",
      "Reading images from Gesture Image Data/3/ ...\n",
      "Reading images from Gesture Image Data/4/ ...\n",
      "Reading images from Gesture Image Data/5/ ...\n",
      "Reading images from Gesture Image Data/6/ ...\n",
      "Reading images from Gesture Image Data/7/ ...\n",
      "Reading images from Gesture Image Data/8/ ...\n",
      "Reading images from Gesture Image Data/9/ ...\n",
      "Reading images from Gesture Image Data/A/ ...\n",
      "Reading images from Gesture Image Data/B/ ...\n",
      "Reading images from Gesture Image Data/C/ ...\n",
      "Reading images from Gesture Image Data/D/ ...\n",
      "Reading images from Gesture Image Data/E/ ...\n",
      "Reading images from Gesture Image Data/F/ ...\n",
      "Reading images from Gesture Image Data/G/ ...\n",
      "Reading images from Gesture Image Data/H/ ...\n",
      "Reading images from Gesture Image Data/I/ ...\n",
      "Reading images from Gesture Image Data/J/ ...\n",
      "Reading images from Gesture Image Data/K/ ...\n",
      "Reading images from Gesture Image Data/L/ ...\n",
      "Reading images from Gesture Image Data/M/ ...\n",
      "Reading images from Gesture Image Data/N/ ...\n",
      "Reading images from Gesture Image Data/O/ ...\n",
      "Reading images from Gesture Image Data/P/ ...\n",
      "Reading images from Gesture Image Data/Q/ ...\n",
      "Reading images from Gesture Image Data/R/ ...\n",
      "Reading images from Gesture Image Data/S/ ...\n",
      "Reading images from Gesture Image Data/T/ ...\n",
      "Reading images from Gesture Image Data/U/ ...\n",
      "Reading images from Gesture Image Data/V/ ...\n",
      "Reading images from Gesture Image Data/W/ ...\n",
      "Reading images from Gesture Image Data/X/ ...\n",
      "Reading images from Gesture Image Data/Y/ ...\n",
      "Reading images from Gesture Image Data/Z/ ...\n",
      "Reading images from Gesture Image Data/_/ ...\n"
     ]
    }
   ],
   "source": [
    "X, y = [], []\n",
    "for folder in gesture_folders:\n",
    "    files = os.listdir(gesture_path + folder)\n",
    "    print('Reading images from ' + gesture_path + folder + '/ ...')\n",
    "    for file in files:\n",
    "        img = cv2.imread(gesture_path + folder + '/' + file)\n",
    "        img = cv2.resize(img, (224, 224))\n",
    "        img = img.reshape(224, 224, 3)\n",
    "        X.append(img)\n",
    "        y.append(dict[folder])"
   ]
  },
  {
   "cell_type": "code",
   "execution_count": 6,
   "metadata": {},
   "outputs": [],
   "source": [
    "from sklearn.model_selection import train_test_split\n",
    "X_train, X_test, y_train, y_test = train_test_split(X, y, test_size = 0.25, random_state = 0)"
   ]
  },
  {
   "cell_type": "code",
   "execution_count": 7,
   "metadata": {},
   "outputs": [],
   "source": [
    "VGG16 = keras.models.Sequential()"
   ]
  },
  {
   "cell_type": "code",
   "execution_count": 8,
   "metadata": {},
   "outputs": [],
   "source": [
    "VGG16.add(layers.Conv2D(filters=64, input_shape=(224,224,3), kernel_size=(3,3), strides=(1,1), padding='same', activation='relu'))"
   ]
  },
  {
   "cell_type": "code",
   "execution_count": 9,
   "metadata": {},
   "outputs": [],
   "source": [
    "VGG16.add(layers.Conv2D(filters=64, input_shape=(224,224,64), kernel_size=(3,3), strides=(1,1), padding='same', activation='relu'))"
   ]
  },
  {
   "cell_type": "code",
   "execution_count": 10,
   "metadata": {},
   "outputs": [],
   "source": [
    "VGG16.add(layers.MaxPooling2D(pool_size=(2,2), strides=(2,2), padding='valid'))"
   ]
  },
  {
   "cell_type": "code",
   "execution_count": 11,
   "metadata": {},
   "outputs": [],
   "source": [
    "VGG16.add(layers.Conv2D(filters=128, input_shape=(112,112,64), kernel_size=(3,3), strides=(1,1), padding='same', activation='relu'))"
   ]
  },
  {
   "cell_type": "code",
   "execution_count": 12,
   "metadata": {},
   "outputs": [],
   "source": [
    "VGG16.add(layers.Conv2D(filters=128, input_shape=(112,112,128), kernel_size=(3,3), strides=(1,1), padding='same', activation='relu'))"
   ]
  },
  {
   "cell_type": "code",
   "execution_count": 13,
   "metadata": {},
   "outputs": [],
   "source": [
    "VGG16.add(layers.MaxPooling2D(pool_size=(2,2), strides=(2,2), padding='valid'))"
   ]
  },
  {
   "cell_type": "code",
   "execution_count": 14,
   "metadata": {},
   "outputs": [],
   "source": [
    "VGG16.add(layers.Conv2D(filters=256, input_shape=(56,56,128), kernel_size=(3,3), strides=(1,1), padding='same', activation='relu'))"
   ]
  },
  {
   "cell_type": "code",
   "execution_count": 15,
   "metadata": {},
   "outputs": [],
   "source": [
    "VGG16.add(layers.Conv2D(filters=256, input_shape=(56,56,256), kernel_size=(3,3), strides=(1,1), padding='same', activation='relu'))"
   ]
  },
  {
   "cell_type": "code",
   "execution_count": 16,
   "metadata": {},
   "outputs": [],
   "source": [
    "VGG16.add(layers.Conv2D(filters=256, input_shape=(56,56,256), kernel_size=(3,3), strides=(1,1), padding='same', activation='relu'))"
   ]
  },
  {
   "cell_type": "code",
   "execution_count": 17,
   "metadata": {},
   "outputs": [],
   "source": [
    "VGG16.add(layers.MaxPooling2D(pool_size=(2,2), strides=(2,2), padding='valid'))"
   ]
  },
  {
   "cell_type": "code",
   "execution_count": 18,
   "metadata": {},
   "outputs": [],
   "source": [
    "VGG16.add(layers.Conv2D(filters=512, input_shape=(28,28,256), kernel_size=(3,3), strides=(1,1), padding='same', activation='relu'))"
   ]
  },
  {
   "cell_type": "code",
   "execution_count": 19,
   "metadata": {},
   "outputs": [],
   "source": [
    "VGG16.add(layers.Conv2D(filters=512, input_shape=(28,28,512), kernel_size=(3,3), strides=(1,1), padding='same', activation='relu'))"
   ]
  },
  {
   "cell_type": "code",
   "execution_count": 20,
   "metadata": {},
   "outputs": [],
   "source": [
    "VGG16.add(layers.Conv2D(filters=512, input_shape=(28,28,512), kernel_size=(3,3), strides=(1,1), padding='same', activation='relu'))"
   ]
  },
  {
   "cell_type": "code",
   "execution_count": 21,
   "metadata": {},
   "outputs": [],
   "source": [
    "VGG16.add(layers.MaxPooling2D(pool_size=(2,2), strides=(2,2), padding='valid'))"
   ]
  },
  {
   "cell_type": "code",
   "execution_count": 22,
   "metadata": {},
   "outputs": [],
   "source": [
    "VGG16.add(layers.Conv2D(filters=512, input_shape=(14,14,512), kernel_size=(3,3), strides=(1,1), padding='same', activation='relu'))"
   ]
  },
  {
   "cell_type": "code",
   "execution_count": 23,
   "metadata": {},
   "outputs": [],
   "source": [
    "VGG16.add(layers.Conv2D(filters=512, input_shape=(14,14,512), kernel_size=(3,3), strides=(1,1), padding='same', activation='relu'))"
   ]
  },
  {
   "cell_type": "code",
   "execution_count": 24,
   "metadata": {},
   "outputs": [],
   "source": [
    "VGG16.add(layers.Conv2D(filters=512, input_shape=(14,14,512), kernel_size=(3,3), strides=(1,1), padding='same', activation='relu'))"
   ]
  },
  {
   "cell_type": "code",
   "execution_count": 25,
   "metadata": {},
   "outputs": [],
   "source": [
    "VGG16.add(layers.MaxPooling2D(pool_size=(2,2), strides=(2,2), padding='valid'))"
   ]
  },
  {
   "cell_type": "code",
   "execution_count": 26,
   "metadata": {},
   "outputs": [],
   "source": [
    "VGG16.add(layers.Flatten())"
   ]
  },
  {
   "cell_type": "code",
   "execution_count": 27,
   "metadata": {},
   "outputs": [],
   "source": [
    "VGG16.add(layers.Dense(units=4096, activation='relu'))\n",
    "VGG16.add(layers.Dropout(0.5))"
   ]
  },
  {
   "cell_type": "code",
   "execution_count": 28,
   "metadata": {},
   "outputs": [],
   "source": [
    "VGG16.add(layers.Dense(units=4096, activation='relu'))\n",
    "VGG16.add(layers.Dropout(0.5))"
   ]
  },
  {
   "cell_type": "code",
   "execution_count": 29,
   "metadata": {},
   "outputs": [],
   "source": [
    "VGG16.add(layers.Dense(units=1000, activation='softmax'))"
   ]
  },
  {
   "cell_type": "code",
   "execution_count": 30,
   "metadata": {},
   "outputs": [
    {
     "name": "stdout",
     "output_type": "stream",
     "text": [
      "Model: \"sequential\"\n",
      "_________________________________________________________________\n",
      " Layer (type)                Output Shape              Param #   \n",
      "=================================================================\n",
      " conv2d (Conv2D)             (None, 224, 224, 64)      1792      \n",
      "                                                                 \n",
      " conv2d_1 (Conv2D)           (None, 224, 224, 64)      36928     \n",
      "                                                                 \n",
      " max_pooling2d (MaxPooling2D  (None, 112, 112, 64)     0         \n",
      " )                                                               \n",
      "                                                                 \n",
      " conv2d_2 (Conv2D)           (None, 112, 112, 128)     73856     \n",
      "                                                                 \n",
      " conv2d_3 (Conv2D)           (None, 112, 112, 128)     147584    \n",
      "                                                                 \n",
      " max_pooling2d_1 (MaxPooling  (None, 56, 56, 128)      0         \n",
      " 2D)                                                             \n",
      "                                                                 \n",
      " conv2d_4 (Conv2D)           (None, 56, 56, 256)       295168    \n",
      "                                                                 \n",
      " conv2d_5 (Conv2D)           (None, 56, 56, 256)       590080    \n",
      "                                                                 \n",
      " conv2d_6 (Conv2D)           (None, 56, 56, 256)       590080    \n",
      "                                                                 \n",
      " max_pooling2d_2 (MaxPooling  (None, 28, 28, 256)      0         \n",
      " 2D)                                                             \n",
      "                                                                 \n",
      " conv2d_7 (Conv2D)           (None, 28, 28, 512)       1180160   \n",
      "                                                                 \n",
      " conv2d_8 (Conv2D)           (None, 28, 28, 512)       2359808   \n",
      "                                                                 \n",
      " conv2d_9 (Conv2D)           (None, 28, 28, 512)       2359808   \n",
      "                                                                 \n",
      " max_pooling2d_3 (MaxPooling  (None, 14, 14, 512)      0         \n",
      " 2D)                                                             \n",
      "                                                                 \n",
      " conv2d_10 (Conv2D)          (None, 14, 14, 512)       2359808   \n",
      "                                                                 \n",
      " conv2d_11 (Conv2D)          (None, 14, 14, 512)       2359808   \n",
      "                                                                 \n",
      " conv2d_12 (Conv2D)          (None, 14, 14, 512)       2359808   \n",
      "                                                                 \n",
      " max_pooling2d_4 (MaxPooling  (None, 7, 7, 512)        0         \n",
      " 2D)                                                             \n",
      "                                                                 \n",
      " flatten (Flatten)           (None, 25088)             0         \n",
      "                                                                 \n",
      " dense (Dense)               (None, 4096)              102764544 \n",
      "                                                                 \n",
      " dropout (Dropout)           (None, 4096)              0         \n",
      "                                                                 \n",
      " dense_1 (Dense)             (None, 4096)              16781312  \n",
      "                                                                 \n",
      " dropout_1 (Dropout)         (None, 4096)              0         \n",
      "                                                                 \n",
      " dense_2 (Dense)             (None, 1000)              4097000   \n",
      "                                                                 \n",
      "=================================================================\n",
      "Total params: 138,357,544\n",
      "Trainable params: 138,357,544\n",
      "Non-trainable params: 0\n",
      "_________________________________________________________________\n"
     ]
    }
   ],
   "source": [
    "VGG16.summary()"
   ]
  },
  {
   "cell_type": "code",
   "execution_count": 31,
   "metadata": {},
   "outputs": [],
   "source": [
    "VGG16.compile(loss='sparse_categorical_crossentropy', optimizer='adam', metrics=['accuracy'])"
   ]
  },
  {
   "cell_type": "code",
   "execution_count": 32,
   "metadata": {},
   "outputs": [],
   "source": [
    "X_train = np.array(X_train)\n",
    "y_train = np.array(y_train)\n",
    "X_test = np.array(X_test)\n",
    "y_test = np.array(y_test)"
   ]
  },
  {
   "cell_type": "code",
   "execution_count": 33,
   "metadata": {},
   "outputs": [
    {
     "name": "stdout",
     "output_type": "stream",
     "text": [
      "Epoch 1/5\n",
      "417/417 [==============================] - 8241s 20s/step - loss: 3.8438 - accuracy: 0.4771\n",
      "Epoch 2/5\n",
      "417/417 [==============================] - 8441s 20s/step - loss: 0.0384 - accuracy: 0.9884\n",
      "Epoch 3/5\n",
      "417/417 [==============================] - 8483s 20s/step - loss: 0.0227 - accuracy: 0.9932\n",
      "Epoch 4/5\n",
      "417/417 [==============================] - 8479s 20s/step - loss: 0.0141 - accuracy: 0.9961\n",
      "Epoch 5/5\n",
      "417/417 [==============================] - 8419s 20s/step - loss: 0.0147 - accuracy: 0.9960\n"
     ]
    },
    {
     "data": {
      "text/plain": [
       "<keras.callbacks.History at 0x2572422f280>"
      ]
     },
     "execution_count": 33,
     "metadata": {},
     "output_type": "execute_result"
    }
   ],
   "source": [
    "VGG16.fit(X_train, y_train, batch_size=100, epochs=5)"
   ]
  },
  {
   "cell_type": "code",
   "execution_count": 35,
   "metadata": {},
   "outputs": [
    {
     "name": "stdout",
     "output_type": "stream",
     "text": [
      "434/434 [==============================] - 654s 2s/step - loss: 9.9629e-05 - accuracy: 1.0000\n",
      "Total loss on Testing Set: 9.962883632397279e-05\n",
      "Acuracy of Testing Set: 1.0\n"
     ]
    }
   ],
   "source": [
    "score = VGG16.evaluate(X_test, y_test)\n",
    "print('Total loss on Testing Set:', score[0])\n",
    "print('Acuracy of Testing Set:', score[1])"
   ]
  },
  {
   "cell_type": "code",
   "execution_count": null,
   "metadata": {},
   "outputs": [],
   "source": []
  }
 ],
 "metadata": {
  "interpreter": {
   "hash": "1ec1e7c2f89c137a20b346189f071c48267d548a59c31eac406a1cb6e612cc77"
  },
  "kernelspec": {
   "display_name": "Python 3.9.9 64-bit (windows store)",
   "language": "python",
   "name": "python3"
  },
  "language_info": {
   "codemirror_mode": {
    "name": "ipython",
    "version": 3
   },
   "file_extension": ".py",
   "mimetype": "text/x-python",
   "name": "python",
   "nbconvert_exporter": "python",
   "pygments_lexer": "ipython3",
   "version": "3.9.4"
  },
  "orig_nbformat": 4
 },
 "nbformat": 4,
 "nbformat_minor": 2
}
